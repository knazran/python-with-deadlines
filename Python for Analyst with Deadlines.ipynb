{
 "cells": [
  {
   "cell_type": "markdown",
   "metadata": {},
   "source": [
    "# Python for Analyst with Deadlines\n",
    "\n"
   ]
  },
  {
   "cell_type": "markdown",
   "metadata": {},
   "source": [
    "### Table of Contents\n",
    "\n",
    "- Introduction / Opening Words\n",
    "- Introduction to Programming Concepts\n",
    "- Thinking about data structures\n",
    "- What are we doing actually: See the forest, not the trees\n",
    "- Pandas: Your Cute, Effective, and (not-that) Straightforward data tool\n",
    "- Plotting with Matplotlib\n",
    "- Someone Gotta See This Right? Reporting and Exporting\n",
    "- Gaining Some Super Powers: Using Libraries and APIs\n",
    "- Looking Forward: Some Tips to Keep on Meeting Deadlines in Style"
   ]
  },
  {
   "cell_type": "markdown",
   "metadata": {},
   "source": [
    "## Introduction to Programming Concepts\n",
    "\n",
    "Few essential programming concepts you got to learn before we get into Python and its wonderous usage for analysis. To make it easy to digest, I will explain it in layman terms.\n",
    "\n",
    "This tutorial, at its core, is about using Python programming to conduct simple analysis with the least amount of upfront learning investment as possible (Because we have deadlines, of course).\n",
    "\n",
    "To do simple analytics in Python, there are several programming concepts you have to learn first. Do note that this is gross oversimplification and does not cover even 10% of Python programming (Yes, the hole goes deep). However, it would be sufficient to get the ball rolling for analytics.\n",
    "\n",
    "### 1. Variables\n",
    "A variable is a small box to contain one thing. This one thing can be a number, a character, or a string. But it is a basic box.\n",
    "\n",
    "You need to name the box and put something in it first to make it exist. In Python, you can create variables as such:"
   ]
  },
  {
   "cell_type": "code",
   "execution_count": 1,
   "metadata": {
    "collapsed": true
   },
   "outputs": [],
   "source": [
    "x = 10 # Variable x is a number 10\n",
    "y = 'a' # Variable y is a character 'a'\n",
    "thisIsAVariableToo = 'Simple right?' # Variable thisIsAVariableToo is a string 'Simple right?'\n"
   ]
  },
  {
   "cell_type": "markdown",
   "metadata": {},
   "source": [
    "Variables can be passed around and reassigned. "
   ]
  },
  {
   "cell_type": "code",
   "execution_count": 2,
   "metadata": {},
   "outputs": [
    {
     "name": "stdout",
     "output_type": "stream",
     "text": [
      "10\n"
     ]
    }
   ],
   "source": [
    "x = 10 # Set x to be 10\n",
    "y = x # Set x to be y\n",
    "print(y) # y is 10!"
   ]
  },
  {
   "cell_type": "markdown",
   "metadata": {},
   "source": [
    "### 2. Conditionals aka If...Then...Else\n",
    "\n",
    "Conditionals controls what our program do based on certain conditions. A very simple way to illustrate this is the 'if...then...else' logical pattern:\n",
    "\n",
    "- IF some condition is True\n",
    "- THEN do this action\n",
    "- ELSE do this other action\n",
    "\n",
    "Let's write a simple conditional using the 'if...then...else' pattern:\n",
    "- IF today's weather is going to rain\n",
    "- THEN bring an umbrella\n",
    "- ELSE leave the umbrella\n",
    "\n",
    "Writing the conditional in Python would look like:"
   ]
  },
  {
   "cell_type": "code",
   "execution_count": null,
   "metadata": {
    "collapsed": true
   },
   "outputs": [],
   "source": [
    "if today_weather == rain: # IF today's weather is going to rain\n",
    "    bring_umbrella() # THEN bring an umbrella\n",
    "else:\n",
    "    leave_umbrealla() # ELSE leave the umbrella"
   ]
  },
  {
   "cell_type": "markdown",
   "metadata": {},
   "source": [
    "### Note something about the conditional function and chaining the boolean operator\n",
    "\n",
    "A more generalised format for a conditional is:"
   ]
  },
  {
   "cell_type": "markdown",
   "metadata": {},
   "source": [
    "### 3. Functions\n",
    "Functions are ‘recipes’ and ‘steps’. \n",
    "\n",
    "In the simplest term, Functions basically GET some input, DO something action, RETURN an output. \n",
    "\n",
    "To identify functions in the Python wilderness, just look of the '()' at the end. Like:"
   ]
  },
  {
   "cell_type": "code",
   "execution_count": null,
   "metadata": {
    "collapsed": true
   },
   "outputs": [],
   "source": [
    "doSomething()\n",
    "bringUmbrella()\n",
    "leaveUmbrealla()"
   ]
  },
  {
   "cell_type": "markdown",
   "metadata": {},
   "source": [
    "Functions, like recipes, needed to be 'written down' and defined before you use them. The definition outlines the pattern I mentioned above: GET input, DO something, RETURN output."
   ]
  },
  {
   "cell_type": "code",
   "execution_count": 3,
   "metadata": {
    "collapsed": true
   },
   "outputs": [],
   "source": [
    "# Define a function, 'addition'\n",
    "def addition(x, y): # The function received two inputs: x and y\n",
    "    sum_of_x_y = x + y # Do something: add x and y together into the variable 'sum_of_x_y'\n",
    "    return sum_of_x_y # Return output, 'sum_of_x_y'"
   ]
  },
  {
   "cell_type": "markdown",
   "metadata": {},
   "source": [
    "Once defined, use it to your heart's content!"
   ]
  },
  {
   "cell_type": "code",
   "execution_count": 4,
   "metadata": {},
   "outputs": [
    {
     "data": {
      "text/plain": [
       "7"
      ]
     },
     "execution_count": 4,
     "metadata": {},
     "output_type": "execute_result"
    }
   ],
   "source": [
    "addition(5,2)"
   ]
  },
  {
   "cell_type": "markdown",
   "metadata": {},
   "source": [
    "Did you know, printing out \"Hello World\" as an output is known to be the simplest form of programming and often used as an introduction to any programming language.\n",
    "\n",
    "To print something as an output in Python, you pass a string to the 'print()' function like this:"
   ]
  },
  {
   "cell_type": "code",
   "execution_count": 5,
   "metadata": {},
   "outputs": [
    {
     "name": "stdout",
     "output_type": "stream",
     "text": [
      "See you can pass stuff here and it prints\n"
     ]
    }
   ],
   "source": [
    "print(\"See you can pass stuff here and it prints\")"
   ]
  },
  {
   "cell_type": "code",
   "execution_count": 6,
   "metadata": {
    "collapsed": true
   },
   "outputs": [],
   "source": [
    "# Try printing \"Hello World\" here\n",
    "\n"
   ]
  },
  {
   "cell_type": "code",
   "execution_count": null,
   "metadata": {
    "collapsed": true
   },
   "outputs": [],
   "source": []
  },
  {
   "cell_type": "markdown",
   "metadata": {},
   "source": [
    "\n",
    "Programming actions, logics, and behavior gets complicated over time and chances are, you have to repeat those things multiple times!"
   ]
  },
  {
   "cell_type": "markdown",
   "metadata": {},
   "source": [
    "### 6. Loops\n",
    "\n",
    "You would not want to repeatedly tell your program what to do. Most times, you want to program some action or behavior and then let your program run through your inputs.\n",
    "\n",
    "Loops do just that, allowing you to iterate through a range of inputs."
   ]
  },
  {
   "cell_type": "code",
   "execution_count": null,
   "metadata": {
    "collapsed": true
   },
   "outputs": [],
   "source": [
    "for i in range()"
   ]
  }
 ],
 "metadata": {
  "kernelspec": {
   "display_name": "Python 3",
   "language": "python",
   "name": "python3"
  },
  "language_info": {
   "codemirror_mode": {
    "name": "ipython",
    "version": 3
   },
   "file_extension": ".py",
   "mimetype": "text/x-python",
   "name": "python",
   "nbconvert_exporter": "python",
   "pygments_lexer": "ipython3",
   "version": "3.6.5"
  }
 },
 "nbformat": 4,
 "nbformat_minor": 2
}
